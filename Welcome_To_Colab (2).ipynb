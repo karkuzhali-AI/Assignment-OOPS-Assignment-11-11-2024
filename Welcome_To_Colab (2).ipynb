{
  "cells": [
    {
      "cell_type": "markdown",
      "source": [
        "The five key concepts of Object-Oriented Programming (OOP) are:\n",
        "\n",
        "Encapsulation: This is the bundling of data (variables) and methods (functions) that operate on the data within a single unit, or class. Encapsulation helps restrict direct access to some of an object's components, which can prevent unintended interference and misuse of the data. It is implemented using access modifiers (public, private, protected).\n",
        "\n",
        "Abstraction: This concept involves hiding the complex implementation details of a system and exposing only the necessary parts to the user. It allows the programmer to focus on a simplified version of the system's behavior without needing to understand its internal workings. In OOP, this is often achieved through abstract classes and interfaces.\n",
        "\n",
        "Inheritance: Inheritance allows a new class (child class) to inherit properties and behaviors (methods) from an existing class (parent class). This promotes code reuse and a hierarchical class structure. The child class can add new features or override inherited methods to enhance or modify its behavior.\n",
        "\n",
        "Polymorphism: Polymorphism allows objects of different classes to be treated as objects of a common base class. It enables a single function or method to work with objects of different types. There are two types of polymorphism: compile-time (method overloading) and runtime (method overriding).\n",
        "\n",
        "Composition: This involves creating complex objects by combining simpler objects. Instead of using inheritance to build relationships between classes, composition is used to create \"has-a\" relationships, where one object contains another. It enhances flexibility and reusability and avoids issues that arise from deep inheritance chains.\n",
        "\n",
        "These principles help in organizing code in a modular and reusable way, making it easier to maintain and scale software systems."
      ],
      "metadata": {
        "id": "42FZhdTqzNKW"
      }
    },
    {
      "cell_type": "code",
      "source": [
        "class Car:\n",
        "    # Constructor to initialize the attributes\n",
        "    def __init__(self, make, model, year):\n",
        "        self.make = make\n",
        "        self.model = model\n",
        "        self.year = year\n",
        "\n",
        "    # Method to display the car's information\n",
        "    def display_info(self):\n",
        "        print(f\"Car Information:\\nMake: {self.make}\\nModel: {self.model}\\nYear: {self.year}\")\n",
        "\n",
        "# Creating an object of the Car class\n",
        "my_car = Car(\"Toyota\", \"Corolla\", 2020)\n",
        "\n",
        "# Calling the method to display the car's information\n",
        "my_car.display_info()\n"
      ],
      "metadata": {
        "id": "GrOpSCUYzRr2"
      },
      "execution_count": null,
      "outputs": []
    },
    {
      "cell_type": "markdown",
      "source": [
        "Explanation:\n",
        "The __init__ method initializes the make, model, and year attributes when a new instance of the Car class is created.\n",
        "The display_info method prints the car's information in a readable format.\n",
        "An object my_car is created with the values \"Toyota\", \"Corolla\", and 2020 for make, model, and year, respectively.\n",
        "The display_info method is called to display the information of the car.\n",
        "When you run this code, it will output:"
      ],
      "metadata": {
        "id": "p4phDV9fzS-N"
      }
    },
    {
      "cell_type": "code",
      "source": [
        "Car Information:\n",
        "Make: Toyota\n",
        "Model: Corolla\n",
        "Year: 2020\n"
      ],
      "metadata": {
        "id": "ikxhDUCQzUwV"
      },
      "execution_count": null,
      "outputs": []
    },
    {
      "cell_type": "markdown",
      "source": [
        "\n",
        "In Python, instance methods and class methods are two types of methods that are associated with objects or classes. Here’s the difference between them:\n",
        "\n",
        "1. Instance Methods\n",
        "Definition: Instance methods are functions that are defined inside a class and are used to operate on an instance (object) of that class. They take at least one parameter, usually self, which refers to the instance of the class. These methods can access and modify the instance attributes.\n",
        "Usage: Instance methods are called on objects created from the class.\n",
        "Example of an Instance Method:"
      ],
      "metadata": {
        "id": "mDABGd0SzWYW"
      }
    },
    {
      "cell_type": "code",
      "source": [
        "class Car:\n",
        "    def __init__(self, make, model, year):\n",
        "        self.make = make\n",
        "        self.model = model\n",
        "        self.year = year\n",
        "\n",
        "    # Instance method\n",
        "    def display_info(self):\n",
        "        print(f\"Make: {self.make}, Model: {self.model}, Year: {self.year}\")\n",
        "\n",
        "# Create an object of the Car class\n",
        "my_car = Car(\"Toyota\", \"Corolla\", 2020)\n",
        "\n",
        "# Calling the instance method\n",
        "my_car.display_info()\n"
      ],
      "metadata": {
        "id": "Bo5ywOlXziQ3"
      },
      "execution_count": null,
      "outputs": []
    },
    {
      "cell_type": "code",
      "source": [
        "Make: Toyota, Model: Corolla, Year: 2020\n"
      ],
      "metadata": {
        "id": "2oWlZfEUzl1F"
      },
      "execution_count": null,
      "outputs": []
    },
    {
      "cell_type": "markdown",
      "source": [
        "2. Class Methods\n",
        "Definition: Class methods are functions that are defined inside a class and are bound to the class itself, rather than to an instance of the class. They take at least one parameter, usually cls, which refers to the class. These methods can access or modify class-level attributes (not instance-level attributes).\n",
        "Usage: Class methods are called on the class itself or an instance, but they always refer to the class."
      ],
      "metadata": {
        "id": "PkSM83cYzmPV"
      }
    },
    {
      "cell_type": "code",
      "source": [
        "class Car:\n",
        "    # Class attribute\n",
        "    num_wheels = 4\n",
        "\n",
        "    def __init__(self, make, model, year):\n",
        "        self.make = make\n",
        "        self.model = model\n",
        "        self.year = year\n",
        "\n",
        "    # Class method\n",
        "    @classmethod\n",
        "    def display_num_wheels(cls):\n",
        "        print(f\"Cars typically have {cls.num_wheels} wheels.\")\n",
        "\n",
        "# Calling the class method using the class name\n",
        "Car.display_num_wheels()\n",
        "\n",
        "# Calling the class method using an instance\n",
        "my_car = Car(\"Toyota\", \"Corolla\", 2020)\n",
        "my_car.display_num_wheels()\n"
      ],
      "metadata": {
        "id": "csb6_Dd1zoUV"
      },
      "execution_count": null,
      "outputs": []
    },
    {
      "cell_type": "code",
      "source": [
        "Cars typically have 4 wheels.\n",
        "Cars typically have 4 wheels.\n"
      ],
      "metadata": {
        "id": "Xh-3E-3Pzrbd"
      },
      "execution_count": null,
      "outputs": []
    },
    {
      "cell_type": "markdown",
      "source": [
        "Key Differences:\n",
        "Binding: Instance methods are bound to an object (instance), while class methods are bound to the class itself.\n",
        "Parameters: Instance methods take self as the first parameter, which refers to the instance. Class methods take cls as the first parameter, which refers to the class.\n",
        "Usage: Instance methods are used to operate on instance-specific data, while class methods are used to operate on class-level data.\n",
        "In summary:\n",
        "\n",
        "Instance methods are for operations involving instance-specific data.\n",
        "Class methods are for operations involving class-specific data or behaviors that apply to all instances of the class.\n",
        "\n",
        "\n",
        "\n",
        "\n",
        "\n"
      ],
      "metadata": {
        "id": "j-ghwsDwzszG"
      }
    },
    {
      "cell_type": "markdown",
      "source": [
        "In Python, method overloading is not directly supported in the way it is in some other programming languages like Java or C++. In those languages, method overloading allows multiple methods with the same name but different parameter lists. However, in Python, only the last method defined with a particular name will be retained, as Python does not support multiple methods with the same name in a class.\n",
        "\n",
        "How Python Implements Method Overloading\n",
        "Python handles method overloading through default arguments and variable-length arguments. These allow a method to accept different numbers or types of arguments, simulating overloading behavior.\n",
        "\n",
        "1. Using Default Arguments:\n",
        "You can provide default values for parameters, allowing the method to be called with different numbers of arguments.\n",
        "\n",
        "Example using Default Arguments:\n",
        "python\n",
        "Copy code\n"
      ],
      "metadata": {
        "id": "y5xVKqj6zuPV"
      }
    },
    {
      "cell_type": "code",
      "source": [
        "class Calculator:\n",
        "    # Method with default arguments\n",
        "    def add(self, a, b=0, c=0):\n",
        "        return a + b + c\n",
        "\n",
        "# Create an object of Calculator\n",
        "calc = Calculator()\n",
        "\n",
        "# Calling the method with different numbers of arguments\n",
        "print(calc.add(5))            # Outputs: 5\n",
        "print(calc.add(5, 10))        # Outputs: 15\n",
        "print(calc.add(5, 10, 15))    # Outputs: 30\n"
      ],
      "metadata": {
        "id": "gwkXCI7jzzPG"
      },
      "execution_count": null,
      "outputs": []
    },
    {
      "cell_type": "markdown",
      "source": [
        "2. Using Variable-Length Arguments:\n",
        "You can use the *args and **kwargs syntax to handle methods that can accept a variable number of arguments.\n",
        "\n",
        "Example using Variable-Length Arguments:\n",
        "python\n",
        "Copy code\n"
      ],
      "metadata": {
        "id": "tbFMDjgRz0Ie"
      }
    },
    {
      "cell_type": "code",
      "source": [
        "class Calculator:\n",
        "    # Method with variable-length arguments\n",
        "    def add(self, *args):\n",
        "        return sum(args)\n",
        "\n",
        "# Create an object of Calculator\n",
        "calc = Calculator()\n",
        "\n",
        "# Calling the method with a different number of arguments\n",
        "print(calc.add(5))            # Outputs: 5\n",
        "print(calc.add(5, 10))        # Outputs: 15\n",
        "print(calc.add(5, 10, 15, 20))# Outputs: 50\n"
      ],
      "metadata": {
        "id": "by9AmADLz1o-"
      },
      "execution_count": null,
      "outputs": []
    },
    {
      "cell_type": "markdown",
      "source": [
        "Explanation:\n",
        "Default arguments: In the first example, the method add has default values for b and c. If these values are not provided during the method call, Python uses the default values (0 in this case).\n",
        "Variable-length arguments (*args): In the second example, *args allows the method to accept any number of positional arguments, and the sum() function is used to add all of them together.\n",
        "Conclusion:\n",
        "While Python doesn't support traditional method overloading based on different parameter types or counts (like in C++ or Java), it can achieve similar behavior using default arguments or variable-length arguments (*args or **kwargs). This provides flexibility in how methods are called and how many arguments they can accept.\n",
        "\n",
        "\n",
        "\n",
        "\n",
        "\n",
        "\n"
      ],
      "metadata": {
        "id": "ro_jassez2rW"
      }
    },
    {
      "cell_type": "markdown",
      "source": [
        "In Python, access modifiers control the visibility and accessibility of class members (attributes and methods) from outside the class. There are three types of access modifiers:\n",
        "\n",
        "1. Public Access Modifier\n",
        "Denoted by: No leading underscore.\n",
        "Description: Public members are accessible from anywhere, both inside and outside the class. By default, all attributes and methods in Python are public unless otherwise specified.\n",
        "Usage: Public members can be freely accessed or modified from outside the class.\n",
        "Example:"
      ],
      "metadata": {
        "id": "Jcv7wIL4z4GN"
      }
    },
    {
      "cell_type": "code",
      "source": [
        "class Car:\n",
        "    def __init__(self, make, model):\n",
        "        self.make = make      # Public attribute\n",
        "        self.model = model    # Public attribute\n",
        "\n",
        "    def display_info(self):    # Public method\n",
        "        print(f\"Make: {self.make}, Model: {self.model}\")\n",
        "\n",
        "# Create an object of the Car class\n",
        "my_car = Car(\"Toyota\", \"Corolla\")\n",
        "\n",
        "# Accessing public attributes and methods\n",
        "print(my_car.make)          # Accessible\n",
        "print(my_car.model)         # Accessible\n",
        "my_car.display_info()       # Accessible\n"
      ],
      "metadata": {
        "id": "Mr54z-_Gz89O"
      },
      "execution_count": null,
      "outputs": []
    },
    {
      "cell_type": "markdown",
      "source": [
        "2. Protected Access Modifier\n",
        "Denoted by: A single underscore (_).\n",
        "Description: Protected members are intended to be used only within the class and its subclasses (derived classes). However, they can still be accessed from outside the class, but this is not recommended as they are considered \"protected\" and should be treated as such by convention.\n",
        "Usage: Although technically accessible outside the class, it’s meant to indicate that the member is \"protected\" and should not be accessed directly.\n",
        "Example:\n",
        "python\n",
        "Copy code\n"
      ],
      "metadata": {
        "id": "3IPpLDaYz96e"
      }
    },
    {
      "cell_type": "code",
      "source": [
        "class Car:\n",
        "    def __init__(self, make, model):\n",
        "        self._make = make      # Protected attribute\n",
        "        self._model = model    # Protected attribute\n",
        "\n",
        "    def display_info(self):    # Public method\n",
        "        print(f\"Make: {self._make}, Model: {self._model}\")\n",
        "\n",
        "# Create an object of the Car class\n",
        "my_car = Car(\"Toyota\", \"Corolla\")\n",
        "\n",
        "# Accessing protected attributes and methods (not recommended)\n",
        "print(my_car._make)          # Technically accessible but should be avoided\n"
      ],
      "metadata": {
        "id": "okTClnfEz_g2"
      },
      "execution_count": null,
      "outputs": []
    },
    {
      "cell_type": "markdown",
      "source": [
        "3. Private Access Modifier\n",
        "Denoted by: A double underscore (__).\n",
        "Description: Private members are meant to be accessible only within the class. They cannot be accessed directly from outside the class. Python performs name mangling for private attributes, which means it internally renames them to include the class name, making them harder (but not impossible) to access from outside the class.\n",
        "Usage: Private members are meant to prevent accidental access and modification from outside the class.\n",
        "Example:"
      ],
      "metadata": {
        "id": "aJirrRFL0AqW"
      }
    },
    {
      "cell_type": "code",
      "source": [
        "class Car:\n",
        "    def __init__(self, make, model):\n",
        "        self.__make = make      # Private attribute\n",
        "        self.__model = model    # Private attribute\n",
        "\n",
        "    def display_info(self):    # Public method\n",
        "        print(f\"Make: {self.__make}, Model: {self.__model}\")\n",
        "\n",
        "# Create an object of the Car class\n",
        "my_car = Car(\"Toyota\", \"Corolla\")\n",
        "\n",
        "# Accessing private attributes directly (will result in an AttributeError)\n",
        "# print(my_car.__make)       # This will raise an AttributeError\n",
        "\n",
        "# Accessing private attributes using name mangling (not recommended)\n",
        "print(my_car._Car__make)     # Accessible via name mangling, but should be avoided\n"
      ],
      "metadata": {
        "id": "7cOPgn490CMW"
      },
      "execution_count": null,
      "outputs": []
    },
    {
      "cell_type": "markdown",
      "source": [
        "Summary of Access Modifiers:\n",
        "Public: No leading underscore. Members are accessible from anywhere.\n",
        "Protected: One leading underscore (_). Members are intended for internal use and inheritance, but can be accessed from outside the class (not recommended).\n",
        "Private: Two leading underscores (__). Members are intended to be private to the class and are not directly accessible from outside, with access possible only via name mangling.\n",
        "These modifiers are based on conventions, as Python relies on a \"we are all consenting adults\" philosophy, meaning the language does not strictly enforce these rules but suggests them for better code organization and maintenance.\n",
        "\n",
        "\n",
        "\n",
        "\n",
        "\n",
        "\n"
      ],
      "metadata": {
        "id": "LOK9q07W0DaG"
      }
    },
    {
      "cell_type": "markdown",
      "source": [
        "  In Python, inheritance is a mechanism that allows one class (the child or subclass) to inherit attributes and methods from another class (the parent or base class). There are five main types of inheritance:\n",
        "\n",
        "1. Single Inheritance\n",
        "Definition: In single inheritance, a subclass inherits from only one parent class.\n",
        "Example: A child class inherits features from a single parent class."
      ],
      "metadata": {
        "id": "7v6F8MYY0F09"
      }
    },
    {
      "cell_type": "code",
      "source": [
        "class Animal:\n",
        "    def speak(self):\n",
        "        print(\"Animal speaks\")\n",
        "\n",
        "class Dog(Animal):\n",
        "    def bark(self):\n",
        "        print(\"Dog barks\")\n",
        "\n",
        "# Creating an object of Dog class\n",
        "dog = Dog()\n",
        "dog.speak()  # Inherited method\n",
        "dog.bark()   # Dog's own method\n"
      ],
      "metadata": {
        "id": "qcaeiNyI0whu"
      },
      "execution_count": null,
      "outputs": []
    },
    {
      "cell_type": "markdown",
      "source": [
        "2. Multiple Inheritance\n",
        "Definition: In multiple inheritance, a subclass inherits from more than one parent class. This allows the subclass to combine behaviors and attributes from multiple classes.\n",
        "Example: A child class can inherit from two or more parent classes.\n",
        "python\n",
        "Copy code\n"
      ],
      "metadata": {
        "id": "7uUzpM7W0xmN"
      }
    },
    {
      "cell_type": "code",
      "source": [
        "class Animal:\n",
        "    def speak(self):\n",
        "        print(\"Animal speaks\")\n",
        "\n",
        "class Mammal:\n",
        "    def has_fur(self):\n",
        "        print(\"Mammals have fur\")\n",
        "\n",
        "# Multiple inheritance\n",
        "class Dog(Animal, Mammal):\n",
        "    def bark(self):\n",
        "        print(\"Dog barks\")\n",
        "\n",
        "# Creating an object of Dog class\n",
        "dog = Dog()\n",
        "dog.speak()   # Inherited from Animal\n",
        "dog.has_fur() # Inherited from Mammal\n",
        "dog.bark()    # Dog's own method\n"
      ],
      "metadata": {
        "id": "2LQFdKcE0zIN"
      },
      "execution_count": null,
      "outputs": []
    },
    {
      "cell_type": "code",
      "source": [
        "Animal speaks\n",
        "Mammals have fur\n",
        "Dog barks\n"
      ],
      "metadata": {
        "id": "VolcpzcI03dc"
      },
      "execution_count": null,
      "outputs": []
    },
    {
      "cell_type": "markdown",
      "source": [
        "3. Multilevel Inheritance\n",
        "Definition: In multilevel inheritance, a subclass inherits from a parent class, and another subclass inherits from the first subclass, forming a chain of inheritance.\n",
        "Example: A grandchild class inherits from a parent class via an intermediate child class."
      ],
      "metadata": {
        "id": "CJdPfnl304xM"
      }
    },
    {
      "cell_type": "code",
      "source": [
        "class Animal:\n",
        "    def speak(self):\n",
        "        print(\"Animal speaks\")\n",
        "\n",
        "class Mammal(Animal):\n",
        "    def has_fur(self):\n",
        "        print(\"Mammals have fur\")\n",
        "\n",
        "class Dog(Mammal):\n",
        "    def bark(self):\n",
        "        print(\"Dog barks\")\n",
        "\n",
        "# Creating an object of Dog class\n",
        "dog = Dog()\n",
        "dog.speak()   # Inherited from Animal\n",
        "dog.has_fur() # Inherited from Mammal\n",
        "dog.bark()    # Dog's own method\n"
      ],
      "metadata": {
        "id": "X4N9wZua06vc"
      },
      "execution_count": null,
      "outputs": []
    },
    {
      "cell_type": "markdown",
      "source": [
        "4. Hierarchical Inheritance\n",
        "Definition: In hierarchical inheritance, multiple subclasses inherit from a single parent class. All subclasses share a common parent but may have additional unique features.\n",
        "Example: Multiple child classes inherit from one base class.\n",
        "python\n",
        "Copy code\n"
      ],
      "metadata": {
        "id": "lew2dQDR07w9"
      }
    },
    {
      "cell_type": "code",
      "source": [
        "class Animal:\n",
        "    def speak(self):\n",
        "        print(\"Animal speaks\")\n",
        "\n",
        "class Dog(Animal):\n",
        "    def bark(self):\n",
        "        print(\"Dog barks\")\n",
        "\n",
        "class Cat(Animal):\n",
        "    def meow(self):\n",
        "        print(\"Cat meows\")\n",
        "\n",
        "# Creating objects of Dog and Cat classes\n",
        "dog = Dog()\n",
        "dog.speak()  # Inherited from Animal\n",
        "dog.bark()   # Dog's own method\n",
        "\n",
        "cat = Cat()\n",
        "cat.speak()  # Inherited from Animal\n",
        "cat.meow()   # Cat's own method\n"
      ],
      "metadata": {
        "id": "DkhyVsZp09Lc"
      },
      "execution_count": null,
      "outputs": []
    },
    {
      "cell_type": "markdown",
      "source": [
        "5. Hybrid Inheritance\n",
        "Definition: Hybrid inheritance is a combination of two or more types of inheritance. It can involve any mix of single, multiple, multilevel, and hierarchical inheritance.\n",
        "Example: Combining multiple inheritance and multilevel inheritance."
      ],
      "metadata": {
        "id": "aJfn5r0-0-Ic"
      }
    },
    {
      "cell_type": "code",
      "source": [
        "class Animal:\n",
        "    def speak(self):\n",
        "        print(\"Animal speaks\")\n",
        "\n",
        "class Mammal(Animal):\n",
        "    def has_fur(self):\n",
        "        print(\"Mammals have fur\")\n",
        "\n",
        "class Bird(Animal):\n",
        "    def can_fly(self):\n",
        "        print(\"Birds can fly\")\n",
        "\n",
        "class Bat(Mammal, Bird):  # Hybrid inheritance\n",
        "    def is_mammal_and_bird(self):\n",
        "        print(\"Bat is both a mammal and a bird\")\n",
        "\n",
        "# Creating an object of Bat class\n",
        "bat = Bat()\n",
        "bat.speak()        # Inherited from Animal\n",
        "bat.has_fur()      # Inherited from Mammal\n",
        "bat.can_fly()      # Inherited from Bird\n",
        "bat.is_mammal_and_bird() # Bat's own method\n"
      ],
      "metadata": {
        "id": "iktg-mNb0_N8"
      },
      "execution_count": null,
      "outputs": []
    },
    {
      "cell_type": "code",
      "source": [
        "Animal speaks\n",
        "Mammals have fur\n",
        "Birds can fly\n",
        "Bat is both a mammal and a bird\n"
      ],
      "metadata": {
        "id": "kzNNCnke1Ay8"
      },
      "execution_count": null,
      "outputs": []
    },
    {
      "cell_type": "markdown",
      "source": [
        "Explanation of Multiple Inheritance Example:\n",
        "In the Multiple Inheritance example above, the Dog class inherits from two parent classes: Animal and Mammal. This allows the Dog class to have access to methods and attributes from both parent classes. Specifically:\n",
        "\n",
        "speak() is inherited from Animal.\n",
        "has_fur() is inherited from Mammal.\n",
        "bark() is defined in the Dog class itself.\n",
        "Thus, the Dog class is able to use the methods from both parent classes while also having its own unique functionality.\n",
        "\n"
      ],
      "metadata": {
        "id": "w8zR1Uga1DME"
      }
    },
    {
      "cell_type": "markdown",
      "source": [
        "Summary of the Five Types of Inheritance:\n",
        "Single Inheritance: One class inherits from another.\n",
        "Multiple Inheritance: One class inherits from multiple classes.\n",
        "Multilevel Inheritance: A chain of inheritance (child inherits from a parent, and another class inherits from the child).\n",
        "Hierarchical Inheritance: Multiple classes inherit from a single parent class.\n",
        "Hybrid Inheritance: A combination of two or more types of inheritance.\n",
        "Each type of inheritance allows you to model relationships and hierarchies between classes in different ways to suit your program’s needs.\n",
        "\n",
        "\n",
        "\n",
        "\n",
        "\n",
        "\n"
      ],
      "metadata": {
        "id": "HAtkYSnj1EOt"
      }
    },
    {
      "cell_type": "markdown",
      "source": [
        "\n",
        "Method Resolution Order (MRO) in Python\n",
        "Method Resolution Order (MRO) is the order in which Python looks for a method in a class hierarchy when that method is called on an object. It is crucial in cases of multiple inheritance because it helps Python decide the order in which to search for the method in the classes involved.\n",
        "\n",
        "The MRO defines the sequence in which base classes are searched when looking for a method. The order of searching follows a specific algorithm, which ensures that the method resolution is unambiguous.\n",
        "\n",
        "In Python, the MRO is primarily determined by the C3 linearization algorithm, which ensures that:\n",
        "\n",
        "Base classes are searched from left to right (left-to-right depth-first search).\n",
        "The search respects the order of inheritance, considering both the method and the class hierarchy.\n",
        "In case of ambiguity, it prioritizes the method of the most recently defined class (closer classes in the inheritance chain).\n",
        "How MRO Works\n",
        "Let's consider an example of multiple inheritance:"
      ],
      "metadata": {
        "id": "baPDNju_1KkU"
      }
    },
    {
      "cell_type": "code",
      "source": [
        "class A:\n",
        "    def method(self):\n",
        "        print(\"Method in class A\")\n",
        "\n",
        "class B(A):\n",
        "    def method(self):\n",
        "        print(\"Method in class B\")\n",
        "\n",
        "class C(A):\n",
        "    def method(self):\n",
        "        print(\"Method in class C\")\n",
        "\n",
        "class D(B, C):\n",
        "    pass\n",
        "\n",
        "d = D()\n",
        "d.method()\n"
      ],
      "metadata": {
        "id": "olckH1zC1LYN"
      },
      "execution_count": null,
      "outputs": []
    },
    {
      "cell_type": "markdown",
      "source": [
        "In this example, the class D inherits from both B and C. The MRO will dictate the order in which Python looks for the method when d.method() is called. According to Python’s MRO, the method will be resolved in the following order:\n",
        "\n",
        "D (the class on which method() is called).\n",
        "B (as D inherits from B first).\n",
        "C (since D also inherits from C).\n",
        "A (the common ancestor of both B and C).\n",
        "Thus, Python will search in the order: D -> B -> C -> A.\n",
        "\n",
        "Retrieve the MRO Programmatically\n",
        "You can retrieve the MRO of a class using the mro() method or by accessing the __mro__ attribute. Both return a list of classes in the MRO.\n",
        "\n",
        "Example using mro() method:\n",
        "python\n",
        "Copy code\n"
      ],
      "metadata": {
        "id": "RBA4NDB_1O98"
      }
    },
    {
      "cell_type": "code",
      "source": [
        "class A:\n",
        "    pass\n",
        "\n",
        "class B(A):\n",
        "    pass\n",
        "\n",
        "class C(A):\n",
        "    pass\n",
        "\n",
        "class D(B, C):\n",
        "    pass\n",
        "\n",
        "# Retrieve the MRO using the mro() method\n",
        "print(D.mro())  # This prints the classes in the MRO for class D\n"
      ],
      "metadata": {
        "id": "ZVqYfK-11Pft"
      },
      "execution_count": null,
      "outputs": []
    },
    {
      "cell_type": "code",
      "source": [
        "# Accessing the MRO via __mro__ attribute\n",
        "print(D.__mro__)  # This also prints the classes in the MRO for class D\n"
      ],
      "metadata": {
        "id": "arKrdJ7d1Q31"
      },
      "execution_count": null,
      "outputs": []
    },
    {
      "cell_type": "markdown",
      "source": [
        "Output of the MRO\n",
        "For the class D in the above example, the output will be:"
      ],
      "metadata": {
        "id": "WdSG4i7n1Tvt"
      }
    },
    {
      "cell_type": "code",
      "source": [
        "[<class '__main__.D'>, <class '__main__.B'>, <class '__main__.C'>, <class '__main__.A'>, <class 'object'>]\n"
      ],
      "metadata": {
        "id": "FV2bM62d1Ul1"
      },
      "execution_count": null,
      "outputs": []
    },
    {
      "cell_type": "markdown",
      "source": [
        "This shows the order in which Python will look for methods or attributes when they are called on an object of class D.\n",
        "\n",
        "Explanation of the MRO for Class D:\n",
        "D is first in the MRO because it is the class on which the method is being called.\n",
        "B is second because D inherits from B first.\n",
        "C comes next because D also inherits from C, and B is searched before C (due to the left-to-right order).\n",
        "A is the base class of both B and C, so it appears last.\n",
        "The object class is included at the end because all classes in Python implicitly inherit from object.\n",
        "Conclusion\n",
        "The Method Resolution Order (MRO) is important when using inheritance in Python, especially for multiple inheritance scenarios, as it determines the order in which Python searches for methods. You can retrieve the MRO programmatically using the mro() method or the __mro__ attribute of a class. This helps you understand how Python will resolve method and attribute lookups in complex inheritance hierarchies.\n",
        "\n",
        "\n",
        "\n",
        "\n",
        "\n",
        "\n"
      ],
      "metadata": {
        "id": "glYuluFz1WE9"
      }
    },
    {
      "cell_type": "markdown",
      "source": [
        "\n",
        "To create an abstract base class (ABC) in Python, we use the abc module, which allows us to define abstract methods that must be implemented by subclasses. An abstract method is a method that is declared but contains no implementation in the abstract base class. Subclasses must provide an implementation for these abstract methods.\n",
        "\n",
        "Steps:\n",
        "Define an abstract base class Shape using ABC and abstractmethod.\n",
        "Create two subclasses Circle and Rectangle that inherit from Shape and implement the area() method.\n",
        "Code Example:"
      ],
      "metadata": {
        "id": "N5qlETe51YeV"
      }
    },
    {
      "cell_type": "code",
      "source": [
        "from abc import ABC, abstractmethod\n",
        "import math\n",
        "\n",
        "# Abstract base class Shape\n",
        "class Shape(ABC):\n",
        "    @abstractmethod\n",
        "    def area(self):\n",
        "        pass  # This is an abstract method; it will be implemented in subclasses\n",
        "\n",
        "# Subclass Circle that implements the area() method\n",
        "class Circle(Shape):\n",
        "    def __init__(self, radius):\n",
        "        self.radius = radius\n",
        "\n",
        "    def area(self):\n",
        "        return math.pi * (self.radius ** 2)  # Area of a circle: πr²\n",
        "\n",
        "# Subclass Rectangle that implements the area() method\n",
        "class Rectangle(Shape):\n",
        "    def __init__(self, length, width):\n",
        "        self.length = length\n",
        "        self.width = width\n",
        "\n",
        "    def area(self):\n",
        "        return self.length * self.width  # Area of a rectangle: length * width\n",
        "\n",
        "# Creating objects of Circle and Rectangle\n",
        "circle = Circle(5)\n",
        "rectangle = Rectangle(4, 6)\n",
        "\n",
        "# Printing the areas\n",
        "print(\"Area of Circle:\", circle.area())\n",
        "print(\"Area of Rectangle:\", rectangle.area())\n"
      ],
      "metadata": {
        "id": "MNz4li0z1cP0"
      },
      "execution_count": null,
      "outputs": []
    },
    {
      "cell_type": "markdown",
      "source": [
        "Explanation:\n",
        "Abstract Base Class Shape:\n",
        "\n",
        "The Shape class inherits from ABC, making it an abstract base class.\n",
        "The area() method is defined as an abstract method using the @abstractmethod decorator. This method has no implementation in Shape and must be implemented by any subclass.\n",
        "Subclass Circle:\n",
        "\n",
        "The Circle class inherits from Shape and provides an implementation of the area() method, which calculates the area of the circle using the formula\n",
        "𝜋\n",
        "𝑟\n",
        "2\n",
        "πr\n",
        "2\n",
        " , where r is the radius.\n",
        "Subclass Rectangle:\n",
        "\n",
        "The Rectangle class inherits from Shape and provides an implementation of the area() method, which calculates the area of the rectangle using the formula\n",
        "length\n",
        "×\n",
        "width\n",
        "length×width.\n",
        "Creating Objects:\n",
        "\n",
        "We create instances of Circle and Rectangle and call their area() methods to print the areas.\n",
        "Output:"
      ],
      "metadata": {
        "id": "-mA2CZCQ1esM"
      }
    },
    {
      "cell_type": "code",
      "source": [
        "Area of Circle: 78.53981633974483\n",
        "Area of Rectangle: 24\n"
      ],
      "metadata": {
        "id": "9liniQhR1fuM"
      },
      "execution_count": null,
      "outputs": []
    },
    {
      "cell_type": "markdown",
      "source": [
        "Conclusion:\n",
        "The abstract class Shape defines the interface (area()), and both Circle and Rectangle provide specific implementations for the area() method.\n",
        "This approach ensures that any new shapes added as subclasses of Shape must implement the area() method."
      ],
      "metadata": {
        "id": "Ra1wDNFa1h6c"
      }
    },
    {
      "cell_type": "markdown",
      "source": [
        "\n",
        "Polymorphism is the concept in object-oriented programming where different classes can be treated as instances of the same class through a common interface. In Python, polymorphism allows methods to have the same name but behave differently based on the object type that calls them.\n",
        "\n",
        "We can demonstrate polymorphism by creating a function that works with different shape objects (like Circle, Rectangle, etc.) and calculates their areas without knowing the exact class of the object. This can be achieved by calling the area() method, which is common to all shape objects.\n",
        "\n",
        "Code Example:"
      ],
      "metadata": {
        "id": "FLrwPe_E1igs"
      }
    },
    {
      "cell_type": "code",
      "source": [
        "from abc import ABC, abstractmethod\n",
        "import math\n",
        "\n",
        "# Abstract base class Shape\n",
        "class Shape(ABC):\n",
        "    @abstractmethod\n",
        "    def area(self):\n",
        "        pass  # This is an abstract method; it will be implemented in subclasses\n",
        "\n",
        "# Subclass Circle that implements the area() method\n",
        "class Circle(Shape):\n",
        "    def __init__(self, radius):\n",
        "        self.radius = radius\n",
        "\n",
        "    def area(self):\n",
        "        return math.pi * (self.radius ** 2)  # Area of a circle: πr²\n",
        "\n",
        "# Subclass Rectangle that implements the area() method\n",
        "class Rectangle(Shape):\n",
        "    def __init__(self, length, width):\n",
        "        self.length = length\n",
        "        self.width = width\n",
        "\n",
        "    def area(self):\n",
        "        return self.length * self.width  # Area of a rectangle: length * width\n",
        "\n",
        "# Subclass Triangle that implements the area() method\n",
        "class Triangle(Shape):\n",
        "    def __init__(self, base, height):\n",
        "        self.base = base\n",
        "        self.height = height\n",
        "\n",
        "    def area(self):\n",
        "        return 0.5 * self.base * self.height  # Area of a triangle: 1/2 * base * height\n",
        "\n",
        "# Function that calculates and prints the area of any shape\n",
        "def print_area(shape: Shape):\n",
        "    print(f\"Area: {shape.area()}\")\n",
        "\n",
        "# Creating objects of Circle, Rectangle, and Triangle\n",
        "circle = Circle(5)\n",
        "rectangle = Rectangle(4, 6)\n",
        "triangle = Triangle(4, 3)\n",
        "\n",
        "# Demonstrating polymorphism by passing different shape objects to the same function\n",
        "print_area(circle)     # Works with Circle object\n",
        "print_area(rectangle)  # Works with Rectangle object\n",
        "print_area(triangle)   # Works with Triangle object\n"
      ],
      "metadata": {
        "id": "Tc6BErnk1n7E"
      },
      "execution_count": null,
      "outputs": []
    },
    {
      "cell_type": "markdown",
      "source": [
        "Explanation:\n",
        "Abstract Base Class Shape:\n",
        "\n",
        "The Shape class is an abstract base class with an abstract method area(). Each shape subclass (like Circle, Rectangle, Triangle) must implement this method.\n",
        "Subclasses Circle, Rectangle, and Triangle:\n",
        "\n",
        "Each subclass implements its own version of the area() method.\n",
        "Circle uses the formula\n",
        "𝜋\n",
        "𝑟\n",
        "2\n",
        "πr\n",
        "2\n",
        "  for area.\n",
        "Rectangle uses the formula\n",
        "length\n",
        "×\n",
        "width\n",
        "length×width.\n",
        "Triangle uses the formula\n",
        "1\n",
        "2\n",
        "×\n",
        "base\n",
        "×\n",
        "height\n",
        "2\n",
        "1\n",
        "​\n",
        " ×base×height.\n",
        "print_area() Function:\n",
        "\n",
        "The function print_area() accepts any object of type Shape (or its subclasses) and calls the area() method on it.\n",
        "This is where polymorphism comes into play: the same function (print_area()) works with different types of shape objects and calls their respective area() methods, even though the method implementation is different for each class.\n",
        "Output:"
      ],
      "metadata": {
        "id": "4GP5B8U91qq8"
      }
    },
    {
      "cell_type": "code",
      "source": [
        "Area: 78.53981633974483   # Area of the Circle\n",
        "Area: 24                 # Area of the Rectangle\n",
        "Area: 6.0                # Area of the Triangle\n"
      ],
      "metadata": {
        "id": "93dA9SZb1rfl"
      },
      "execution_count": null,
      "outputs": []
    },
    {
      "cell_type": "markdown",
      "source": [
        "Conclusion:\n",
        "Polymorphism is demonstrated in the print_area() function, which can handle different shape objects (Circle, Rectangle, Triangle) and correctly calls the area() method on each.\n",
        "This approach allows you to work with objects of different types in a unified way, making your code more flexible and reusable.\n",
        "\n",
        "\n",
        "\n",
        "\n",
        "\n"
      ],
      "metadata": {
        "id": "yQAN1ml91sjl"
      }
    },
    {
      "cell_type": "markdown",
      "source": [
        "\n",
        "Encapsulation is one of the core principles of object-oriented programming (OOP). It involves hiding the internal details (attributes and methods) of an object and providing controlled access to them through public methods. This is achieved in Python by using private attributes (denoted by a leading underscore or double underscore) and getter/setter methods for accessing or modifying these attributes.\n",
        "\n",
        "Below is the implementation of the BankAccount class with encapsulation:\n",
        "\n",
        "Code Example:"
      ],
      "metadata": {
        "id": "rP5kBYzC1tNN"
      }
    },
    {
      "cell_type": "code",
      "source": [
        "class BankAccount:\n",
        "    def __init__(self, account_number, initial_balance=0):\n",
        "        self.__account_number = account_number  # Private attribute for account number\n",
        "        self.__balance = initial_balance  # Private attribute for balance\n",
        "\n",
        "    # Getter method for account number\n",
        "    def get_account_number(self):\n",
        "        return self.__account_number\n",
        "\n",
        "    # Getter method for balance\n",
        "    def get_balance(self):\n",
        "        return self.__balance\n",
        "\n",
        "    # Method to deposit money into the account\n",
        "    def deposit(self, amount):\n",
        "        if amount > 0:\n",
        "            self.__balance += amount\n",
        "            print(f\"Deposited: {amount}\")\n",
        "        else:\n",
        "            print(\"Deposit amount must be positive.\")\n",
        "\n",
        "    # Method to withdraw money from the account\n",
        "    def withdraw(self, amount):\n",
        "        if amount > 0:\n",
        "            if self.__balance >= amount:\n",
        "                self.__balance -= amount\n",
        "                print(f\"Withdrawn: {amount}\")\n",
        "            else:\n",
        "                print(\"Insufficient balance.\")\n",
        "        else:\n",
        "            print(\"Withdrawal amount must be positive.\")\n",
        "\n",
        "    # Method to inquire balance\n",
        "    def inquire_balance(self):\n",
        "        print(f\"Account Balance: {self.__balance}\")\n",
        "\n",
        "# Creating a BankAccount object\n",
        "account = BankAccount(\"123456789\", 1000)\n",
        "\n",
        "# Using methods to interact with the account\n",
        "account.inquire_balance()  # Check balance\n",
        "account.deposit(500)       # Deposit money\n",
        "account.withdraw(200)      # Withdraw money\n",
        "account.inquire_balance()  # Check balance again\n",
        "\n",
        "# Trying to access private attributes directly (will raise an error)\n",
        "# print(account.__balance)  # This will raise an AttributeError\n"
      ],
      "metadata": {
        "id": "136P5ju51xoN"
      },
      "execution_count": null,
      "outputs": []
    },
    {
      "cell_type": "markdown",
      "source": [
        "Explanation:\n",
        "Private Attributes:\n",
        "\n",
        "__account_number and __balance are private attributes, denoted by the double underscore prefix (__). These attributes are not directly accessible from outside the class.\n",
        "Getter Methods:\n",
        "\n",
        "The get_account_number() and get_balance() methods are public methods that allow access to the private attributes. These methods provide controlled access to the values of the private attributes.\n",
        "Methods for Deposit and Withdrawal:\n",
        "\n",
        "The deposit() method increases the balance by the deposit amount, but only if the amount is positive.\n",
        "The withdraw() method decreases the balance by the withdrawal amount, but it checks if the balance is sufficient before allowing the withdrawal. It also ensures that the withdrawal amount is positive.\n",
        "Balance Inquiry:\n",
        "\n",
        "The inquire_balance() method allows the user to check the current balance.\n",
        "Usage:\n",
        "The account object is created with an initial balance of 1000.\n",
        "The deposit() method adds money to the balance, and the withdraw() method subtracts money from the balance, as long as there is enough balance.\n",
        "The private attributes (__balance and __account_number) cannot be accessed directly from outside the class, ensuring that data is protected and only modified through the provided methods.\n",
        "Output:"
      ],
      "metadata": {
        "id": "tTP7bYPP10Kz"
      }
    },
    {
      "cell_type": "code",
      "source": [
        "Account Balance: 1000\n",
        "Deposited: 500\n",
        "Withdrawn: 200\n",
        "Account Balance: 1300\n"
      ],
      "metadata": {
        "id": "Pws8XJGS11Q0"
      },
      "execution_count": null,
      "outputs": []
    },
    {
      "cell_type": "markdown",
      "source": [
        "Key Points:\n",
        "Encapsulation ensures that the internal state of the object (like the balance) is not directly modified from outside the class.\n",
        "The getter and setter methods provide controlled access to the private attributes. In this case, we only used getters for __account_number and __balance and setters for modifying __balance (via deposit() and withdraw()).\n",
        "The private attributes can’t be accessed directly, enforcing data protection and integrity.\n",
        "\n",
        "\n",
        "\n",
        "\n",
        "\n"
      ],
      "metadata": {
        "id": "sfmZj39513M8"
      }
    },
    {
      "cell_type": "markdown",
      "source": [
        "\n",
        "In Python, the magic methods (also called dunder methods) allow you to define how objects of your class behave when certain operations are performed on them. Specifically, the __str__ and __add__ methods are used for:\n",
        "\n",
        "__str__: This method is used to define the string representation of an object. When str() is called on an object or when the object is printed, the __str__ method is called to provide a string that describes the object.\n",
        "\n",
        "__add__: This method is used to define how the + operator behaves for objects of your class. You can override this method to define custom behavior for adding two objects together.\n",
        "\n",
        "Example Class with __str__ and __add__ Overridden:"
      ],
      "metadata": {
        "id": "f7YDR1Ln17S9"
      }
    },
    {
      "cell_type": "code",
      "source": [
        "class Point:\n",
        "    def __init__(self, x, y):\n",
        "        self.x = x\n",
        "        self.y = y\n",
        "\n",
        "    # Overriding the __str__ method to define custom string representation\n",
        "    def __str__(self):\n",
        "        return f\"Point({self.x}, {self.y})\"\n",
        "\n",
        "    # Overriding the __add__ method to define custom addition behavior\n",
        "    def __add__(self, other):\n",
        "        if isinstance(other, Point):\n",
        "            # Adding two Point objects by adding their corresponding coordinates\n",
        "            return Point(self.x + other.x, self.y + other.y)\n",
        "        else:\n",
        "            raise TypeError(\"Operand must be of type 'Point'\")\n",
        "\n",
        "# Creating two Point objects\n",
        "point1 = Point(1, 2)\n",
        "point2 = Point(3, 4)\n",
        "\n",
        "# Using the __str__ method (via print or str())\n",
        "print(point1)  # Output: Point(1, 2)\n",
        "\n",
        "# Using the __add__ method with the + operator\n",
        "point3 = point1 + point2  # This calls point1.__add__(point2)\n",
        "print(point3)  # Output: Point(4, 6)\n"
      ],
      "metadata": {
        "id": "yF4r3Ywa18Nu"
      },
      "execution_count": null,
      "outputs": []
    },
    {
      "cell_type": "markdown",
      "source": [
        "Explanation:\n",
        "__str__ Method:\n",
        "\n",
        "We override the __str__ method to return a string representation of the Point object in the format \"Point(x, y)\". This string is what will be shown when we print the object or call str() on it.\n",
        "Without overriding __str__, printing the object would return a default string that includes the object's memory address.\n",
        "__add__ Method:\n",
        "\n",
        "The __add__ method is overridden to define how the + operator behaves for two Point objects. When two Point objects are added, we return a new Point object where the x and y coordinates are the sum of the corresponding coordinates of the two points.\n",
        "We also add a check using isinstance to ensure that the other object is of type Point. If it's not, a TypeError is raised.\n",
        "What These Methods Allow You to Do:\n",
        "__str__:\n",
        "\n",
        "It allows you to define a human-readable string representation of your object, which is useful when printing objects or converting them to strings for display or logging.\n",
        "Example: print(point1) will print Point(1, 2) instead of a less meaningful default output like <__main__.Point object at 0x7f943f8d8fd0>.\n",
        "__add__:\n",
        "\n",
        "It allows you to use the + operator with your custom objects. In this case, adding two Point objects will result in a new Point object with the sum of the x and y coordinates.\n",
        "Example: point1 + point2 will add the x and y values of the two points and return a new Point(4, 6) object.\n",
        "Output:\n",
        "scss\n",
        "Copy code\n"
      ],
      "metadata": {
        "id": "YoBDweFd1_vc"
      }
    },
    {
      "cell_type": "code",
      "source": [
        "Point(1, 2)\n",
        "Point(4, 6)\n"
      ],
      "metadata": {
        "id": "5F6UJvdR2AmE"
      },
      "execution_count": null,
      "outputs": []
    },
    {
      "cell_type": "markdown",
      "source": [
        "Conclusion:\n",
        "The __str__ method customizes how an object is displayed as a string, making it more readable and user-friendly.\n",
        "The __add__ method customizes the behavior of the + operator for your class, enabling you to define how objects of your class should be added together.\n",
        "By overriding these methods, you provide meaningful and custom behaviors for string representation and addition operations, making the class more intuitive and flexible to work with."
      ],
      "metadata": {
        "id": "RkAyTv3o2BhV"
      }
    },
    {
      "cell_type": "markdown",
      "source": [
        "\n",
        "A decorator in Python is a function that wraps another function (or method) to modify its behavior. In this case, we want to create a decorator that measures and prints the execution time of the function it wraps.\n",
        "\n",
        "To achieve this, we can use the time module to capture the start and end times of the function execution, then compute the difference.\n",
        "\n",
        "Code Example:"
      ],
      "metadata": {
        "id": "6kusifgm2B6d"
      }
    },
    {
      "cell_type": "code",
      "source": [
        "import time\n",
        "\n",
        "# Decorator function to measure execution time\n",
        "def measure_execution_time(func):\n",
        "    def wrapper(*args, **kwargs):\n",
        "        start_time = time.time()  # Capture the start time\n",
        "        result = func(*args, **kwargs)  # Call the wrapped function\n",
        "        end_time = time.time()  # Capture the end time\n",
        "        execution_time = end_time - start_time  # Calculate the execution time\n",
        "        print(f\"Execution time of {func.__name__}: {execution_time:.4f} seconds\")\n",
        "        return result  # Return the result of the wrapped function\n",
        "    return wrapper\n",
        "\n",
        "# Example function to demonstrate the decorator\n",
        "@measure_execution_time\n",
        "def example_function():\n",
        "    time.sleep(2)  # Simulate a function that takes time (2 seconds)\n",
        "\n",
        "# Call the decorated function\n",
        "example_function()\n"
      ],
      "metadata": {
        "id": "wr2IKovT2F8D"
      },
      "execution_count": null,
      "outputs": []
    },
    {
      "cell_type": "markdown",
      "source": [
        "Explanation:\n",
        "measure_execution_time Decorator:\n",
        "\n",
        "This decorator takes a function (func) as its argument.\n",
        "Inside, it defines a wrapper function that will wrap around the original function (func).\n",
        "The wrapper function calculates the execution time by noting the time before and after the function call.\n",
        "The execution time is then printed in seconds with 4 decimal places.\n",
        "The wrapper function also returns the result of the original function (func).\n",
        "Applying the Decorator:\n",
        "\n",
        "The @measure_execution_time syntax is used to apply the decorator to example_function. This means example_function is now wrapped by measure_execution_time.\n",
        "time.sleep(2):\n",
        "\n",
        "This is just to simulate a function that takes time to execute. In this example, it makes the function pause for 2 seconds before completing.\n",
        "Result:\n",
        "\n",
        "When example_function() is called, the decorator will print the execution time for that function.\n",
        "Output:"
      ],
      "metadata": {
        "id": "X1wF8b2-2IEE"
      }
    },
    {
      "cell_type": "code",
      "source": [
        "Execution time of example_function: 2.0001 seconds\n"
      ],
      "metadata": {
        "id": "tdkBexmi2I3l"
      },
      "execution_count": null,
      "outputs": []
    },
    {
      "cell_type": "code",
      "source": [],
      "metadata": {
        "id": "MucXEwIE2KOS"
      },
      "execution_count": null,
      "outputs": []
    },
    {
      "cell_type": "markdown",
      "source": [
        "Conclusion:\n",
        "The measure_execution_time decorator allows you to easily measure the execution time of any function by simply adding @measure_execution_time above the function definition.\n",
        "This approach provides a clean and reusable way to monitor the performance of functions in your code."
      ],
      "metadata": {
        "id": "FNiezhKr2KX8"
      }
    },
    {
      "cell_type": "markdown",
      "source": [
        "\n",
        "Diamond Problem in Multiple Inheritance:\n",
        "The Diamond Problem occurs in object-oriented programming when a class inherits from two classes that have a common ancestor. This creates a diamond-shaped inheritance hierarchy. The issue arises when the derived class inherits from both child classes of a common base class, and both child classes implement or override the same method or attribute.\n",
        "\n",
        "This can cause ambiguity for the method resolution order (MRO) when the derived class tries to call a method or access an attribute from the common ancestor.\n",
        "\n",
        "Illustration of the Diamond Problem:\n",
        "Consider the following class hierarchy:"
      ],
      "metadata": {
        "id": "niNiSH3P2Sns"
      }
    },
    {
      "cell_type": "code",
      "source": [
        "        A\n",
        "       / \\\n",
        "      B   C\n",
        "       \\ /\n",
        "        D\n"
      ],
      "metadata": {
        "id": "DO-NvwlD2TYc"
      },
      "execution_count": null,
      "outputs": []
    },
    {
      "cell_type": "markdown",
      "source": [
        "In this case:\n",
        "\n",
        "Class D inherits from both B and C.\n",
        "Class B and C both inherit from the base class A.\n",
        "Now, if A, B, and C all have a method (e.g., method()), and D calls method(), there is ambiguity regarding which version of the method should be called—whether it’s from B, C, or A.\n",
        "\n",
        "Python's Solution to the Diamond Problem:\n",
        "Python resolves the Diamond Problem using the Method Resolution Order (MRO), which is based on the C3 Linearization Algorithm. This algorithm ensures that the classes are ordered in a way that eliminates ambiguity when a method is called.\n",
        "\n",
        "In Python, the MRO specifies the order in which base classes are considered when searching for a method or attribute. Python uses the super() function, which follows the MRO, to determine which class’s method to call next.\n",
        "\n",
        "Example of the Diamond Problem and How Python Resolves It:\n",
        "python\n",
        "Copy code\n"
      ],
      "metadata": {
        "id": "DciXtA3s2VE8"
      }
    },
    {
      "cell_type": "code",
      "source": [
        "class A:\n",
        "    def method(self):\n",
        "        print(\"Method in class A\")\n",
        "\n",
        "class B(A):\n",
        "    def method(self):\n",
        "        print(\"Method in class B\")\n",
        "        super().method()  # Calls method from class A using MRO\n",
        "\n",
        "class C(A):\n",
        "    def method(self):\n",
        "        print(\"Method in class C\")\n",
        "        super().method()  # Calls method from class A using MRO\n",
        "\n",
        "class D(B, C):  # D inherits from both B and C\n",
        "    def method(self):\n",
        "        print(\"Method in class D\")\n",
        "        super().method()  # Follows the MRO to find the next method\n",
        "\n",
        "# Creating an object of class D\n",
        "d = D()\n",
        "d.method()\n"
      ],
      "metadata": {
        "id": "XGLhWyi92WNc"
      },
      "execution_count": null,
      "outputs": []
    },
    {
      "cell_type": "markdown",
      "source": [
        "Explanation:\n",
        "Class Hierarchy:\n",
        "\n",
        "Class A has the method method().\n",
        "Classes B and C both inherit from A and override the method().\n",
        "Class D inherits from both B and C.\n",
        "MRO and Method Resolution:\n",
        "\n",
        "When d.method() is called on an object of class D, Python uses the MRO to determine which method to call.\n",
        "The super().method() calls follow the MRO in the order:\n",
        "First, it calls the method from class D.\n",
        "Then, it looks for the next class in the MRO, which is class B (since D inherits from B first).\n",
        "Inside class B, super().method() is called, which follows the MRO and calls the method from class C.\n",
        "Finally, super().method() inside class C calls the method from class A.\n",
        "Output:"
      ],
      "metadata": {
        "id": "S6uX9j1c2Y3F"
      }
    },
    {
      "cell_type": "code",
      "source": [
        "Method in class D\n",
        "Method in class B\n",
        "Method in class C\n",
        "Method in class A\n"
      ],
      "metadata": {
        "id": "WzsUqNa72aAt"
      },
      "execution_count": null,
      "outputs": []
    },
    {
      "cell_type": "markdown",
      "source": [
        "How Python Resolves the Diamond Problem:\n",
        "Python resolves the Diamond Problem through the C3 Linearization Algorithm, which:\n",
        "\n",
        "Establishes a method resolution order (MRO) that defines the exact sequence of class methods to follow.\n",
        "Ensures that each class appears only once in the MRO, even if it is inherited multiple times.\n",
        "Uses the super() function to automatically follow the MRO when calling methods in the class hierarchy.\n",
        "To check the MRO of a class, you can use the mro() method:"
      ],
      "metadata": {
        "id": "QLN_Aw3U2b6l"
      }
    },
    {
      "cell_type": "code",
      "source": [
        "print(D.mro())\n"
      ],
      "metadata": {
        "id": "vMLJzzBF2cyL"
      },
      "execution_count": null,
      "outputs": []
    },
    {
      "cell_type": "code",
      "source": [
        "[<class '__main__.D'>, <class '__main__.B'>, <class '__main__.C'>, <class '__main__.A'>, <class 'object'>]\n"
      ],
      "metadata": {
        "id": "zb-Hq6q_2d1U"
      },
      "execution_count": null,
      "outputs": []
    },
    {
      "cell_type": "markdown",
      "source": [
        "Conclusion:\n",
        "The Diamond Problem arises in multiple inheritance when two or more base classes share a common ancestor, leading to ambiguity about which method to call.\n",
        "Python resolves this problem using the C3 Linearization Algorithm, which determines a clear method resolution order (MRO) for all classes in the inheritance hierarchy.\n",
        "Python’s super() function follows the MRO to ensure that methods are called in a predictable and unambiguous order."
      ],
      "metadata": {
        "id": "0tD6hg6K2fVL"
      }
    },
    {
      "cell_type": "markdown",
      "source": [
        "To keep track of the number of instances created from a class, we can use a class variable that stores the count. This variable will be shared by all instances of the class. Additionally, we can define a class method to access and update this counter each time an instance is created.\n",
        "\n",
        "Code Example:"
      ],
      "metadata": {
        "id": "UXqams3x3IrE"
      }
    },
    {
      "cell_type": "code",
      "source": [
        "class MyClass:\n",
        "    # Class variable to store the count of instances\n",
        "    instance_count = 0\n",
        "\n",
        "    def __init__(self):\n",
        "        # Increment the count each time an instance is created\n",
        "        MyClass.instance_count += 1\n",
        "\n",
        "    @classmethod\n",
        "    def get_instance_count(cls):\n",
        "        # Return the current instance count\n",
        "        return cls.instance_count\n",
        "\n",
        "# Creating instances of the class\n",
        "obj1 = MyClass()\n",
        "obj2 = MyClass()\n",
        "obj3 = MyClass()\n",
        "\n",
        "# Accessing the class method to get the instance count\n",
        "print(f\"Number of instances created: {MyClass.get_instance_count()}\")  # Output: 3\n"
      ],
      "metadata": {
        "colab": {
          "base_uri": "https://localhost:8080/"
        },
        "id": "RU1GNtGY3JhE",
        "outputId": "2a4b4c2a-f99c-4c7f-df08-70fae5e55605"
      },
      "execution_count": 3,
      "outputs": [
        {
          "output_type": "stream",
          "name": "stdout",
          "text": [
            "Number of instances created: 3\n"
          ]
        }
      ]
    },
    {
      "cell_type": "markdown",
      "source": [
        "Explanation:\n",
        "Class Variable (instance_count):\n",
        "\n",
        "We define a class variable instance_count in MyClass, which starts at 0. This variable is shared by all instances of the class.\n",
        "__init__ Method:\n",
        "\n",
        "In the __init__ method (the constructor), we increment MyClass.instance_count by 1 each time a new instance of the class is created.\n",
        "Class Method (get_instance_count):\n",
        "\n",
        "The get_instance_count() method is a class method, denoted by the @classmethod decorator.\n",
        "It takes cls as its first parameter, which refers to the class itself (not the instance). This allows it to access and return the instance_count class variable.\n",
        "Creating Instances:\n",
        "\n",
        "When obj1, obj2, and obj3 are created, the __init__ method is called three times, incrementing instance_count each time.\n",
        "Getting the Count:\n",
        "\n",
        "We can call the class method get_instance_count() on the class itself (MyClass.get_instance_count()) to retrieve the total number of instances that have been created.\n",
        "Output:"
      ],
      "metadata": {
        "id": "la3gv_tx3LGU"
      }
    },
    {
      "cell_type": "code",
      "source": [
        "Number of instances created: 3\n"
      ],
      "metadata": {
        "id": "UDgG55r93L1U"
      },
      "execution_count": null,
      "outputs": []
    },
    {
      "cell_type": "markdown",
      "source": [
        "Key Points:\n",
        "The class variable instance_count keeps track of the number of instances created from the class.\n",
        "The class method get_instance_count() allows us to access the current count of instances.\n",
        "This approach ensures that we can track how many objects of the class are instantiated over time.\n",
        "\n",
        "\n",
        "\n",
        "\n",
        "\n"
      ],
      "metadata": {
        "id": "7Xks88sp3M27"
      }
    },
    {
      "cell_type": "markdown",
      "source": [
        "\n",
        "To implement a static method that checks if a given year is a leap year, we need to define a method in the class that does not depend on any instance or class attributes. A static method is independent of both the instance and the class and is typically used for utility functions that don't require access to the object's state.\n",
        "\n",
        "The logic to check if a year is a leap year is as follows:\n",
        "\n",
        "A year is a leap year if:\n",
        "It is divisible by 4, and\n",
        "It is not divisible by 100, unless it is also divisible by 400.\n",
        "Code Example:"
      ],
      "metadata": {
        "id": "yclLqJc23Qs0"
      }
    },
    {
      "cell_type": "code",
      "source": [
        "class YearUtils:\n",
        "    @staticmethod\n",
        "    def is_leap_year(year):\n",
        "        # Check if the year is a leap year\n",
        "        if (year % 4 == 0 and year % 100 != 0) or (year % 400 == 0):\n",
        "            return True\n",
        "        return False\n",
        "\n",
        "# Example usage of the static method\n",
        "year = 2024\n",
        "if YearUtils.is_leap_year(year):\n",
        "    print(f\"{year} is a leap year.\")\n",
        "else:\n",
        "    print(f\"{year} is not a leap year.\")\n"
      ],
      "metadata": {
        "id": "-j05HhNX3Tmq"
      },
      "execution_count": null,
      "outputs": []
    },
    {
      "cell_type": "markdown",
      "source": [
        "Explanation:\n",
        "Static Method:\n",
        "\n",
        "The @staticmethod decorator is used to define the method is_leap_year as a static method. This means it doesn't take a reference to the instance (self) or the class (cls), and it can be called on the class itself without needing an instance.\n",
        "Leap Year Logic:\n",
        "\n",
        "The method checks if the year is divisible by 4, but not divisible by 100 unless it is also divisible by 400.\n",
        "Usage:\n",
        "\n",
        "You can call the is_leap_year() method directly on the class (YearUtils.is_leap_year(year)) without creating an instance of YearUtils.\n",
        "Output:\n",
        "For the example with the year 2024:"
      ],
      "metadata": {
        "id": "Xgi661EH3WKL"
      }
    },
    {
      "cell_type": "code",
      "source": [
        "2024 is a leap year.\n"
      ],
      "metadata": {
        "id": "mvDtnl8a3XzT"
      },
      "execution_count": null,
      "outputs": []
    },
    {
      "cell_type": "code",
      "source": [
        "2023 is not a leap year.\n"
      ],
      "metadata": {
        "id": "t_dnecJ83YiG"
      },
      "execution_count": null,
      "outputs": []
    },
    {
      "cell_type": "markdown",
      "source": [
        "Key Points:\n",
        "Static methods are used when you need a utility function that doesn’t rely on instance or class-specific data.\n",
        "The leap year check is encapsulated in the is_leap_year static method.\n",
        "You can call the static method directly on the class without creating an instance of the class.\n"
      ],
      "metadata": {
        "id": "uIWPzbAK3Zsj"
      }
    }
  ],
  "metadata": {
    "colab": {
      "name": "Welcome To Colab",
      "provenance": []
    },
    "kernelspec": {
      "display_name": "Python 3",
      "name": "python3"
    }
  },
  "nbformat": 4,
  "nbformat_minor": 0
}